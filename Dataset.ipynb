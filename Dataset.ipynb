{
  "nbformat": 4,
  "nbformat_minor": 0,
  "metadata": {
    "colab": {
      "provenance": [],
      "mount_file_id": "1El8jfQEmnx2Kv-38rrVmjPTcIQdk_A4A",
      "authorship_tag": "ABX9TyODuTs+Or88VhrEj6Eg7Ymu",
      "include_colab_link": true
    },
    "kernelspec": {
      "name": "python3",
      "display_name": "Python 3"
    },
    "language_info": {
      "name": "python"
    }
  },
  "cells": [
    {
      "cell_type": "markdown",
      "metadata": {
        "id": "view-in-github",
        "colab_type": "text"
      },
      "source": [
        "<a href=\"https://colab.research.google.com/github/taravatp/Text_Style_Transfer/blob/main/Dataset.ipynb\" target=\"_parent\"><img src=\"https://colab.research.google.com/assets/colab-badge.svg\" alt=\"Open In Colab\"/></a>"
      ]
    },
    {
      "cell_type": "code",
      "execution_count": null,
      "metadata": {
        "id": "vWWAowDl2hlx"
      },
      "outputs": [],
      "source": [
        "!pip install -q transformers==3.1.0\n",
        "!pip install -qU hazm"
      ]
    },
    {
      "cell_type": "code",
      "source": [
        "import numpy as np\n",
        "import pandas as pd\n",
        "import re\n",
        "\n",
        "import torch\n",
        "from torch.utils.data import Dataset\n",
        "from transformers import BertConfig, BertTokenizer"
      ],
      "metadata": {
        "id": "zB9yQO2r21Dd"
      },
      "execution_count": null,
      "outputs": []
    },
    {
      "cell_type": "code",
      "source": [
        "import hazm\n",
        "from hazm import word_tokenize\n",
        "import gensim\n",
        "from gensim.models.word2vec import Word2Vec"
      ],
      "metadata": {
        "id": "jZH2kJ964axg"
      },
      "execution_count": null,
      "outputs": []
    },
    {
      "cell_type": "code",
      "source": [
        "class FormalityDataset(Dataset):\n",
        "  def __init__(self, dataset_path,embedding_path, BertTokenizer, config, max_len, flag):\n",
        "\n",
        "    self.dataset = pd.read_csv(dataset_path)\n",
        "    if flag=='train':\n",
        "      self.dataset = self.dataset.iloc[1000:]\n",
        "    elif flag == 'test':\n",
        "      self.dataset = self.dataset.iloc[0:1000]\n",
        "\n",
        "    self.BertTokenizer = BertTokenizer\n",
        "    self.config = config\n",
        "    self.max_len = max_len\n",
        "\n",
        "    # self.HazmEmbedding = gensim.models.Word2Vec.load(embedding_path)\n",
        "\n",
        "  def __len__(self):\n",
        "    return len(self.dataset)\n",
        "\n",
        "  def get_encoder_input(self, informal_sentence):\n",
        "\n",
        "    informal_encoding = self.BertTokenizer.encode_plus(\n",
        "    informal_sentence,\n",
        "    add_special_tokens=True,\n",
        "    truncation=True,\n",
        "    max_length=self.max_len,\n",
        "    return_token_type_ids=True,\n",
        "    padding='max_length',\n",
        "    return_attention_mask=True,\n",
        "    return_tensors='pt')\n",
        "\n",
        "\n",
        "    informal_input = {\n",
        "      'informal_sentence': informal_sentence,\n",
        "      'input_ids': informal_encoding['input_ids'].flatten(),\n",
        "      'attention_mask': informal_encoding['attention_mask'].flatten(),\n",
        "      'token_type_ids': informal_encoding['token_type_ids'].flatten()\n",
        "      }\n",
        "\n",
        "    return informal_input\n",
        "\n",
        "  def get_decoder_input(self,formal_sentence):\n",
        "    padded_sequence = ['' for i in range(self.max_len)]\n",
        "    tokens = word_tokenize(formal_sentence)\n",
        "    if len(tokens) > self.max_len:\n",
        "      padded_sequence = tokens[:self.max_len]\n",
        "    else:\n",
        "      padded_sequence[:len(formal_sentence)] = formal_sentence\n",
        "    return padded_sequence\n",
        "\n",
        "\n",
        "  def __getitem__(self,index):\n",
        "\n",
        "    inFormalForm = self.dataset['inFormalForm'].iloc[index]\n",
        "    target = self.dataset['formalForm'].iloc[index]\n",
        "\n",
        "    input_encoder = self.get_encoder_input(inFormalForm)\n",
        "    # target = self.get_decoder_input(target)\n",
        "\n",
        "    return input_encoder, target"
      ],
      "metadata": {
        "id": "qsKGTRb_26oO"
      },
      "execution_count": null,
      "outputs": []
    },
    {
      "cell_type": "code",
      "source": [
        "from torch.utils.data import DataLoader\n",
        "TRAIN_BATCH_SIZE = 32"
      ],
      "metadata": {
        "id": "539hvvPW1oon"
      },
      "execution_count": null,
      "outputs": []
    },
    {
      "cell_type": "code",
      "source": [
        "if __name__ == \"__main__\":\n",
        "  DATASET_PATH = '/content/drive/MyDrive/text_style_transfer/CleanedDataset.csv'\n",
        "  HAZM_EMBEDDING_PATH = '/content/drive/MyDrive/text_style_transfer/targets_embedding.w2v'\n",
        "  MODEL_NAME_OR_PATH = 'HooshvareLab/bert-fa-base-uncased'\n",
        "  BertTokenizer = BertTokenizer.from_pretrained(MODEL_NAME_OR_PATH)\n",
        "  config = BertConfig.from_pretrained(MODEL_NAME_OR_PATH)\n",
        "  MAX_LEN = 32\n",
        "  train_dataset = FormalityDataset(DATASET_PATH,HAZM_EMBEDDING_PATH,BertTokenizer,config,MAX_LEN,'train')\n",
        "  train_data_loader = DataLoader(train_dataset,batch_size=TRAIN_BATCH_SIZE)"
      ],
      "metadata": {
        "id": "X0UWyatP-i5u"
      },
      "execution_count": null,
      "outputs": []
    }
  ]
}